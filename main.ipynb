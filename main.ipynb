{
 "cells": [
  {
   "cell_type": "code",
   "execution_count": 1,
   "metadata": {},
   "outputs": [],
   "source": [
    "import pandas as pd\n",
    "import numpy as np\n",
    "import filtering"
   ]
  },
  {
   "cell_type": "markdown",
   "metadata": {},
   "source": [
    "데이터 불러오기"
   ]
  },
  {
   "cell_type": "code",
   "execution_count": 2,
   "metadata": {},
   "outputs": [],
   "source": [
    "raw_rating_data= pd.read_csv('./data/rating.csv')"
   ]
  },
  {
   "cell_type": "code",
   "execution_count": 3,
   "metadata": {},
   "outputs": [],
   "source": [
    "raw_movie_data= pd.read_csv('./data/movie.csv')"
   ]
  },
  {
   "cell_type": "markdown",
   "metadata": {},
   "source": [
    "필터링"
   ]
  },
  {
   "cell_type": "code",
   "execution_count": 4,
   "metadata": {},
   "outputs": [],
   "source": [
    "# 필터링 \n",
    "rating_threshold = 1000\n",
    "genres_included = ['Action', 'Crime']\n",
    "movie_min_year = 1980"
   ]
  },
  {
   "cell_type": "code",
   "execution_count": 5,
   "metadata": {},
   "outputs": [],
   "source": [
    "#threshold 100 -> 15970204개 행 /// 1000 -> 2801066개 행\n",
    "rating_data = filtering.rating_filter(raw_rating_data, rating_threshold) "
   ]
  },
  {
   "cell_type": "code",
   "execution_count": 6,
   "metadata": {},
   "outputs": [],
   "source": [
    "movie_data = filtering.movie_filter(raw_movie_data, movie_min_year, genres_included)"
   ]
  },
  {
   "cell_type": "markdown",
   "metadata": {},
   "source": [
    "은선님 코드"
   ]
  },
  {
   "cell_type": "code",
   "execution_count": 7,
   "metadata": {},
   "outputs": [],
   "source": [
    "rating_datas= pd.merge(rating_data, movie_data, on = 'movieId', how = 'right')"
   ]
  },
  {
   "cell_type": "code",
   "execution_count": 8,
   "metadata": {},
   "outputs": [],
   "source": [
    "from scipy.sparse.linalg import svds\n",
    "def make_prediction_df():\n",
    "    R_df = rating_datas.pivot(index = 'userId', columns ='movieId', values = 'rating').fillna(0)\n",
    "\n",
    "    #R은 pivot_table을 numpy matrix로 만든 것\n",
    "    R = R_df.values\n",
    "    \n",
    "    #user_rating_mean은 사용자의 평균 평점\n",
    "    user_ratings_mean = np.mean(R, axis = 1)\n",
    "    \n",
    "    #R_demeaned : 사용자-영화 테이블에 대해 사용자 평균 평점을 뺀 것\n",
    "    R_demeaned = R - user_ratings_mean.reshape(-1, 1)\n",
    "        \n",
    "    #U 행렬, sigma 행렬, V전치행렬을 반환.\n",
    "    #이때 spicy에 있는 svd를 이용한다.\n",
    "    U, sigma, Vt = svds(R_demeaned, k = 50)\n",
    "    \n",
    "    #sigma는 0이 포함되지 않은 값으로만 구성되어 있다.\n",
    "    #sigma를 0이 포함된 대칭 행렬로 변환한다.\n",
    "    sigma = np.diag(sigma)\n",
    "    \n",
    "    #SVD가 적용되어 분해된 R_demeaned를 원본 행렬로 복구\n",
    "    #구한 원본 행렬에 사용자 평균 rating을 더해준다.\n",
    "    all_user_predicted_ratings = np.dot(np.dot(U, sigma), Vt) + user_ratings_mean.reshape(-1,1)\n",
    "    \n",
    "    preds_df = pd.DataFrame(all_user_predicted_ratings, columns = R_df.columns)\n",
    "    \n",
    "    return preds_df\n"
   ]
  },
  {
   "cell_type": "code",
   "execution_count": 9,
   "metadata": {},
   "outputs": [],
   "source": [
    "def recommend_movies(predictions_df, userID, movies_df, original_ratings_df, num_recommendations=5):\n",
    "    \n",
    "    #인덱스로 변환해주어야 해서 -1 \n",
    "    user_row_number = userID - 1\n",
    "    \n",
    "    #앞에서 만든 prediction행렬을 사용자 인덱스에 따라 영화 정렬 -> 영화 평점이 높은 순으로 정렬\n",
    "    sorted_user_predictions = predictions_df.iloc[user_row_number].sort_values(ascending=False)\n",
    "    \n",
    "    #원본 rating_data에서 user_id에 해당하는 데이터를 뽑아낸다.\n",
    "    user_data = original_ratings_df[original_ratings_df.userId == (userID)]\n",
    "    \n",
    "    #user_data와 원본 영화 데이터를 합친다.\n",
    "    user_full = (user_data.merge(movies_df, how = 'left', left_on = 'movieId', right_on = 'movieId').\n",
    "                     sort_values(['rating'], ascending=False)\n",
    "                 )\n",
    "    \n",
    "    #원본 영화 데이터에서 사용자가 본 영화를 제외한 데이터 추출\n",
    "    #.merge로 sorted_user_predcitions와 user_full데이터를 합친다.\n",
    "    #.rename으로 컬럼 이름을 바꾸고 정렬한다\n",
    "    recommendations = (movies_df[~movies_df['movieId'].isin(user_full['movieId'])].\n",
    "         merge(pd.DataFrame(sorted_user_predictions).reset_index(), how = 'left',\n",
    "               left_on = 'movieId',\n",
    "               right_on = 'movieId').\n",
    "         rename(columns = {user_row_number: 'Predictions'}).\n",
    "         sort_values('Predictions', ascending = False)\n",
    "                      )\n",
    "                       \n",
    "    return recommendations\n"
   ]
  },
  {
   "cell_type": "code",
   "execution_count": 10,
   "metadata": {},
   "outputs": [],
   "source": [
    "#make_prediction_df()함수 호출하기 전에 input을 넣어줍니다.\n",
    "preds_df = make_prediction_df()"
   ]
  },
  {
   "cell_type": "code",
   "execution_count": 11,
   "metadata": {},
   "outputs": [],
   "source": [
    "#24번 사용자가 본 영화 데이터를 토대로 영화 추천 받은 목록\n",
    "prediction= recommend_movies(preds_df, 24, movie_data, rating_data, 10)"
   ]
  },
  {
   "cell_type": "code",
   "execution_count": 12,
   "metadata": {},
   "outputs": [
    {
     "data": {
      "text/html": [
       "<div>\n",
       "<style scoped>\n",
       "    .dataframe tbody tr th:only-of-type {\n",
       "        vertical-align: middle;\n",
       "    }\n",
       "\n",
       "    .dataframe tbody tr th {\n",
       "        vertical-align: top;\n",
       "    }\n",
       "\n",
       "    .dataframe thead th {\n",
       "        text-align: right;\n",
       "    }\n",
       "</style>\n",
       "<table border=\"1\" class=\"dataframe\">\n",
       "  <thead>\n",
       "    <tr style=\"text-align: right;\">\n",
       "      <th></th>\n",
       "      <th>movieId</th>\n",
       "      <th>title</th>\n",
       "      <th>genres</th>\n",
       "      <th>year</th>\n",
       "      <th>Predictions</th>\n",
       "    </tr>\n",
       "  </thead>\n",
       "  <tbody>\n",
       "    <tr>\n",
       "      <th>28</th>\n",
       "      <td>110</td>\n",
       "      <td>Braveheart (1995)</td>\n",
       "      <td>[Action, Drama, War]</td>\n",
       "      <td>1995.0</td>\n",
       "      <td>5.888322</td>\n",
       "    </tr>\n",
       "    <tr>\n",
       "      <th>70</th>\n",
       "      <td>318</td>\n",
       "      <td>Shawshank Redemption, The (1994)</td>\n",
       "      <td>[Crime, Drama]</td>\n",
       "      <td>1994.0</td>\n",
       "      <td>5.673850</td>\n",
       "    </tr>\n",
       "    <tr>\n",
       "      <th>220</th>\n",
       "      <td>1215</td>\n",
       "      <td>Army of Darkness (1993)</td>\n",
       "      <td>[Action, Adventure, Comedy, Fantasy, Horror]</td>\n",
       "      <td>1993.0</td>\n",
       "      <td>5.259624</td>\n",
       "    </tr>\n",
       "    <tr>\n",
       "      <th>1206</th>\n",
       "      <td>7153</td>\n",
       "      <td>Lord of the Rings: The Return of the King, The...</td>\n",
       "      <td>[Action, Adventure, Drama, Fantasy]</td>\n",
       "      <td>2003.0</td>\n",
       "      <td>5.148396</td>\n",
       "    </tr>\n",
       "    <tr>\n",
       "      <th>374</th>\n",
       "      <td>2005</td>\n",
       "      <td>Goonies, The (1985)</td>\n",
       "      <td>[Action, Adventure, Children, Comedy, Fantasy]</td>\n",
       "      <td>1985.0</td>\n",
       "      <td>5.136931</td>\n",
       "    </tr>\n",
       "    <tr>\n",
       "      <th>215</th>\n",
       "      <td>1197</td>\n",
       "      <td>Princess Bride, The (1987)</td>\n",
       "      <td>[Action, Adventure, Comedy, Fantasy, Romance]</td>\n",
       "      <td>1987.0</td>\n",
       "      <td>5.065103</td>\n",
       "    </tr>\n",
       "    <tr>\n",
       "      <th>128</th>\n",
       "      <td>553</td>\n",
       "      <td>Tombstone (1993)</td>\n",
       "      <td>[Action, Drama, Western]</td>\n",
       "      <td>1993.0</td>\n",
       "      <td>5.048535</td>\n",
       "    </tr>\n",
       "    <tr>\n",
       "      <th>214</th>\n",
       "      <td>1196</td>\n",
       "      <td>Star Wars: Episode V - The Empire Strikes Back...</td>\n",
       "      <td>[Action, Adventure, Sci-Fi]</td>\n",
       "      <td>1980.0</td>\n",
       "      <td>4.967289</td>\n",
       "    </tr>\n",
       "    <tr>\n",
       "      <th>65</th>\n",
       "      <td>293</td>\n",
       "      <td>Léon: The Professional (a.k.a. The Professiona...</td>\n",
       "      <td>[Action, Crime, Drama, Thriller]</td>\n",
       "      <td>1994.0</td>\n",
       "      <td>4.964584</td>\n",
       "    </tr>\n",
       "    <tr>\n",
       "      <th>379</th>\n",
       "      <td>2028</td>\n",
       "      <td>Saving Private Ryan (1998)</td>\n",
       "      <td>[Action, Drama, War]</td>\n",
       "      <td>1998.0</td>\n",
       "      <td>4.935194</td>\n",
       "    </tr>\n",
       "  </tbody>\n",
       "</table>\n",
       "</div>"
      ],
      "text/plain": [
       "      movieId                                              title  \\\n",
       "28        110                                  Braveheart (1995)   \n",
       "70        318                   Shawshank Redemption, The (1994)   \n",
       "220      1215                            Army of Darkness (1993)   \n",
       "1206     7153  Lord of the Rings: The Return of the King, The...   \n",
       "374      2005                                Goonies, The (1985)   \n",
       "215      1197                         Princess Bride, The (1987)   \n",
       "128       553                                   Tombstone (1993)   \n",
       "214      1196  Star Wars: Episode V - The Empire Strikes Back...   \n",
       "65        293  Léon: The Professional (a.k.a. The Professiona...   \n",
       "379      2028                         Saving Private Ryan (1998)   \n",
       "\n",
       "                                              genres    year  Predictions  \n",
       "28                              [Action, Drama, War]  1995.0     5.888322  \n",
       "70                                    [Crime, Drama]  1994.0     5.673850  \n",
       "220     [Action, Adventure, Comedy, Fantasy, Horror]  1993.0     5.259624  \n",
       "1206             [Action, Adventure, Drama, Fantasy]  2003.0     5.148396  \n",
       "374   [Action, Adventure, Children, Comedy, Fantasy]  1985.0     5.136931  \n",
       "215    [Action, Adventure, Comedy, Fantasy, Romance]  1987.0     5.065103  \n",
       "128                         [Action, Drama, Western]  1993.0     5.048535  \n",
       "214                      [Action, Adventure, Sci-Fi]  1980.0     4.967289  \n",
       "65                  [Action, Crime, Drama, Thriller]  1994.0     4.964584  \n",
       "379                             [Action, Drama, War]  1998.0     4.935194  "
      ]
     },
     "execution_count": 12,
     "metadata": {},
     "output_type": "execute_result"
    }
   ],
   "source": [
    "prediction.head(10)"
   ]
  },
  {
   "cell_type": "code",
   "execution_count": null,
   "metadata": {},
   "outputs": [],
   "source": []
  }
 ],
 "metadata": {
  "kernelspec": {
   "display_name": "Python 3",
   "language": "python",
   "name": "python3"
  },
  "language_info": {
   "codemirror_mode": {
    "name": "ipython",
    "version": 3
   },
   "file_extension": ".py",
   "mimetype": "text/x-python",
   "name": "python",
   "nbconvert_exporter": "python",
   "pygments_lexer": "ipython3",
   "version": "3.7.3"
  }
 },
 "nbformat": 4,
 "nbformat_minor": 4
}
