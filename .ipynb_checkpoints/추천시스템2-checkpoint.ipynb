{
 "cells": [
  {
   "cell_type": "code",
   "execution_count": 33,
   "metadata": {},
   "outputs": [],
   "source": [
    "import pandas as pd\n",
    "import numpy as np\n",
    "import filtering"
   ]
  },
  {
   "cell_type": "markdown",
   "metadata": {},
   "source": [
    "데이터 불러오기"
   ]
  },
  {
   "cell_type": "code",
   "execution_count": null,
   "metadata": {},
   "outputs": [],
   "source": [
    "raw_rating_data= pd.read_csv('C:/Jupyter_project/datasets/movie_lens/rating.csv')\n",
    "raw_movie_data= pd.read_csv('C:\\Jupyter_project\\datasets\\movie_lens/movie.csv')"
   ]
  },
  {
   "cell_type": "markdown",
   "metadata": {},
   "source": [
    "필터링"
   ]
  },
  {
   "cell_type": "code",
   "execution_count": 34,
   "metadata": {},
   "outputs": [],
   "source": [
    "# 필터링 \n",
    "rating_threshold = 1000\n",
    "genres_included = ['Action', 'Crime']\n",
    "movie_min_year = 1980"
   ]
  },
  {
   "cell_type": "code",
   "execution_count": 35,
   "metadata": {},
   "outputs": [],
   "source": [
    "#threshold 100 -> 15970204개 행 /// 1000 -> 2801066개 행\n",
    "rating_data = filtering.rating_filter(raw_rating_data, rating_threshold) "
   ]
  },
  {
   "cell_type": "code",
   "execution_count": 36,
   "metadata": {},
   "outputs": [],
   "source": [
    "movie_data = filtering.movie_filter(raw_movie_data, movie_min_year, genres_included)"
   ]
  },
  {
   "cell_type": "markdown",
   "metadata": {},
   "source": [
    "은선님 코드"
   ]
  },
  {
   "cell_type": "code",
   "execution_count": 95,
   "metadata": {},
   "outputs": [],
   "source": [
    "rating_datas= pd.merge(rating_data, movie_data, on = 'movieId', how = 'right')"
   ]
  },
  {
   "cell_type": "code",
   "execution_count": 96,
   "metadata": {},
   "outputs": [],
   "source": [
    "from scipy.sparse.linalg import svds\n",
    "def make_prediction_df():\n",
    "    R_df = rating_datas.pivot(index = 'userId', columns ='movieId', values = 'rating').fillna(0)\n",
    "\n",
    "    #R은 pivot_table을 numpy matrix로 만든 것\n",
    "    R = R_df.values\n",
    "    \n",
    "    #user_rating_mean은 사용자의 평균 평점\n",
    "    user_ratings_mean = np.mean(R, axis = 1)\n",
    "    \n",
    "    #R_demeaned : 사용자-영화 테이블에 대해 사용자 평균 평점을 뺀 것\n",
    "    R_demeaned = R - user_ratings_mean.reshape(-1, 1)\n",
    "        \n",
    "    #U 행렬, sigma 행렬, V전치행렬을 반환.\n",
    "    #이때 spicy에 있는 svd를 이용한다.\n",
    "    U, sigma, Vt = svds(R_demeaned, k = 50)\n",
    "    \n",
    "    #sigma는 0이 포함되지 않은 값으로만 구성되어 있다.\n",
    "    #sigma를 0이 포함된 대칭 행렬로 변환한다.\n",
    "    sigma = np.diag(sigma)\n",
    "    \n",
    "    #SVD가 적용되어 분해된 R_demeaned를 원본 행렬로 복구\n",
    "    #구한 원본 행렬에 사용자 평균 rating을 더해준다.\n",
    "    all_user_predicted_ratings = np.dot(np.dot(U, sigma), Vt) + user_ratings_mean.reshape(-1,1)\n",
    "    \n",
    "    preds_df = pd.DataFrame(all_user_predicted_ratings, columns = R_df.columns)\n",
    "    \n",
    "    return preds_df\n"
   ]
  },
  {
   "cell_type": "code",
   "execution_count": 97,
   "metadata": {},
   "outputs": [],
   "source": [
    "def recommend_movies(predictions_df, userID, movies_df, original_ratings_df, num_recommendations=5):\n",
    "    \n",
    "    #인덱스로 변환해주어야 해서 -1 \n",
    "    user_row_number = userID - 1\n",
    "    \n",
    "    #앞에서 만든 prediction행렬을 사용자 인덱스에 따라 영화 정렬 -> 영화 평점이 높은 순으로 정렬\n",
    "    sorted_user_predictions = predictions_df.iloc[user_row_number].sort_values(ascending=False)\n",
    "    \n",
    "    #원본 rating_data에서 user_id에 해당하는 데이터를 뽑아낸다.\n",
    "    user_data = original_ratings_df[original_ratings_df.userId == (userID)]\n",
    "    \n",
    "    #user_data와 원본 영화 데이터를 합친다.\n",
    "    user_full = (user_data.merge(movies_df, how = 'left', left_on = 'movieId', right_on = 'movieId').\n",
    "                     sort_values(['rating'], ascending=False)\n",
    "                 )\n",
    "    \n",
    "    #원본 영화 데이터에서 사용자가 본 영화를 제외한 데이터 추출\n",
    "    #.merge로 sorted_user_predcitions와 user_full데이터를 합친다.\n",
    "    #.rename으로 컬럼 이름을 바꾸고 정렬한다\n",
    "    recommendations = (movies_df[~movies_df['movieId'].isin(user_full['movieId'])].\n",
    "         merge(pd.DataFrame(sorted_user_predictions).reset_index(), how = 'left',\n",
    "               left_on = 'movieId',\n",
    "               right_on = 'movieId').\n",
    "         rename(columns = {user_row_number: 'Predictions'}).\n",
    "         sort_values('Predictions', ascending = False)\n",
    "                      )\n",
    "                       \n",
    "    return recommendations\n"
   ]
  },
  {
   "cell_type": "code",
   "execution_count": 98,
   "metadata": {},
   "outputs": [],
   "source": [
    "#make_prediction_df()함수 호출하기 전에 input을 넣어줍니다.\n",
    "preds_df = make_prediction_df()"
   ]
  },
  {
   "cell_type": "code",
   "execution_count": 99,
   "metadata": {},
   "outputs": [],
   "source": [
    "#24번 사용자가 본 영화 데이터를 토대로 영화 추천 받은 목록\n",
    "prediction= recommend_movies(preds_df,24, movie_data, rating_data, 10)"
   ]
  },
  {
   "cell_type": "code",
   "execution_count": 100,
   "metadata": {},
   "outputs": [
    {
     "data": {
      "text/html": [
       "<div>\n",
       "<style scoped>\n",
       "    .dataframe tbody tr th:only-of-type {\n",
       "        vertical-align: middle;\n",
       "    }\n",
       "\n",
       "    .dataframe tbody tr th {\n",
       "        vertical-align: top;\n",
       "    }\n",
       "\n",
       "    .dataframe thead th {\n",
       "        text-align: right;\n",
       "    }\n",
       "</style>\n",
       "<table border=\"1\" class=\"dataframe\">\n",
       "  <thead>\n",
       "    <tr style=\"text-align: right;\">\n",
       "      <th></th>\n",
       "      <th>movieId</th>\n",
       "      <th>title</th>\n",
       "      <th>genres</th>\n",
       "      <th>year</th>\n",
       "      <th>Predictions</th>\n",
       "    </tr>\n",
       "  </thead>\n",
       "  <tbody>\n",
       "    <tr>\n",
       "      <th>140</th>\n",
       "      <td>858</td>\n",
       "      <td>Godfather, The (1972)</td>\n",
       "      <td>[Crime, Drama]</td>\n",
       "      <td>1972.0</td>\n",
       "      <td>4.955399</td>\n",
       "    </tr>\n",
       "    <tr>\n",
       "      <th>189</th>\n",
       "      <td>1221</td>\n",
       "      <td>Godfather: Part II, The (1974)</td>\n",
       "      <td>[Crime, Drama]</td>\n",
       "      <td>1974.0</td>\n",
       "      <td>4.774361</td>\n",
       "    </tr>\n",
       "    <tr>\n",
       "      <th>20</th>\n",
       "      <td>111</td>\n",
       "      <td>Taxi Driver (1976)</td>\n",
       "      <td>[Crime, Drama, Thriller]</td>\n",
       "      <td>1976.0</td>\n",
       "      <td>3.082877</td>\n",
       "    </tr>\n",
       "    <tr>\n",
       "      <th>653</th>\n",
       "      <td>4262</td>\n",
       "      <td>Scarface (1983)</td>\n",
       "      <td>[Action, Crime, Drama]</td>\n",
       "      <td>1983.0</td>\n",
       "      <td>1.696186</td>\n",
       "    </tr>\n",
       "    <tr>\n",
       "      <th>11</th>\n",
       "      <td>70</td>\n",
       "      <td>From Dusk Till Dawn (1996)</td>\n",
       "      <td>[Action, Comedy, Horror, Thriller]</td>\n",
       "      <td>1996.0</td>\n",
       "      <td>1.554705</td>\n",
       "    </tr>\n",
       "    <tr>\n",
       "      <th>80</th>\n",
       "      <td>474</td>\n",
       "      <td>In the Line of Fire (1993)</td>\n",
       "      <td>[Action, Thriller]</td>\n",
       "      <td>1993.0</td>\n",
       "      <td>1.489349</td>\n",
       "    </tr>\n",
       "    <tr>\n",
       "      <th>85</th>\n",
       "      <td>493</td>\n",
       "      <td>Menace II Society (1993)</td>\n",
       "      <td>[Action, Crime, Drama]</td>\n",
       "      <td>1993.0</td>\n",
       "      <td>1.147451</td>\n",
       "    </tr>\n",
       "    <tr>\n",
       "      <th>23</th>\n",
       "      <td>145</td>\n",
       "      <td>Bad Boys (1995)</td>\n",
       "      <td>[Action, Comedy, Crime, Drama, Thriller]</td>\n",
       "      <td>1995.0</td>\n",
       "      <td>1.095014</td>\n",
       "    </tr>\n",
       "    <tr>\n",
       "      <th>499</th>\n",
       "      <td>3256</td>\n",
       "      <td>Patriot Games (1992)</td>\n",
       "      <td>[Action, Thriller]</td>\n",
       "      <td>1992.0</td>\n",
       "      <td>1.001665</td>\n",
       "    </tr>\n",
       "    <tr>\n",
       "      <th>310</th>\n",
       "      <td>1917</td>\n",
       "      <td>Armageddon (1998)</td>\n",
       "      <td>[Action, Romance, Sci-Fi, Thriller]</td>\n",
       "      <td>1998.0</td>\n",
       "      <td>0.946215</td>\n",
       "    </tr>\n",
       "  </tbody>\n",
       "</table>\n",
       "</div>"
      ],
      "text/plain": [
       "     movieId                           title  \\\n",
       "140      858           Godfather, The (1972)   \n",
       "189     1221  Godfather: Part II, The (1974)   \n",
       "20       111              Taxi Driver (1976)   \n",
       "653     4262                 Scarface (1983)   \n",
       "11        70      From Dusk Till Dawn (1996)   \n",
       "80       474      In the Line of Fire (1993)   \n",
       "85       493        Menace II Society (1993)   \n",
       "23       145                 Bad Boys (1995)   \n",
       "499     3256            Patriot Games (1992)   \n",
       "310     1917               Armageddon (1998)   \n",
       "\n",
       "                                       genres    year  Predictions  \n",
       "140                            [Crime, Drama]  1972.0     4.955399  \n",
       "189                            [Crime, Drama]  1974.0     4.774361  \n",
       "20                   [Crime, Drama, Thriller]  1976.0     3.082877  \n",
       "653                    [Action, Crime, Drama]  1983.0     1.696186  \n",
       "11         [Action, Comedy, Horror, Thriller]  1996.0     1.554705  \n",
       "80                         [Action, Thriller]  1993.0     1.489349  \n",
       "85                     [Action, Crime, Drama]  1993.0     1.147451  \n",
       "23   [Action, Comedy, Crime, Drama, Thriller]  1995.0     1.095014  \n",
       "499                        [Action, Thriller]  1992.0     1.001665  \n",
       "310       [Action, Romance, Sci-Fi, Thriller]  1998.0     0.946215  "
      ]
     },
     "execution_count": 100,
     "metadata": {},
     "output_type": "execute_result"
    }
   ],
   "source": [
    "prediction.head(10)"
   ]
  },
  {
   "cell_type": "code",
   "execution_count": null,
   "metadata": {},
   "outputs": [],
   "source": []
  }
 ],
 "metadata": {
  "kernelspec": {
   "display_name": "Python 3",
   "language": "python",
   "name": "python3"
  },
  "language_info": {
   "codemirror_mode": {
    "name": "ipython",
    "version": 3
   },
   "file_extension": ".py",
   "mimetype": "text/x-python",
   "name": "python",
   "nbconvert_exporter": "python",
   "pygments_lexer": "ipython3",
   "version": "3.7.3"
  }
 },
 "nbformat": 4,
 "nbformat_minor": 4
}
