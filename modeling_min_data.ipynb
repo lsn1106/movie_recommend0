{
 "cells": [
  {
   "cell_type": "code",
   "execution_count": 105,
   "metadata": {},
   "outputs": [],
   "source": [
    "import pandas as pd\n",
    "rating_data= pd.read_csv('./ml-latest-small/ratings.csv')\n",
    "raw_movie_data= pd.read_csv('./ml-latest-small//movies.csv')"
   ]
  },
  {
   "cell_type": "code",
   "execution_count": 106,
   "metadata": {},
   "outputs": [
    {
     "data": {
      "text/plain": [
       "(100836, 4)"
      ]
     },
     "execution_count": 106,
     "metadata": {},
     "output_type": "execute_result"
    }
   ],
   "source": [
    "rating_data.shape"
   ]
  },
  {
   "cell_type": "code",
   "execution_count": 107,
   "metadata": {},
   "outputs": [
    {
     "data": {
      "text/plain": [
       "(9742, 3)"
      ]
     },
     "execution_count": 107,
     "metadata": {},
     "output_type": "execute_result"
    }
   ],
   "source": [
    "raw_movie_data.shape"
   ]
  },
  {
   "cell_type": "code",
   "execution_count": 108,
   "metadata": {},
   "outputs": [],
   "source": [
    "def movie_filter(input_data, year=1950, genres=None):\n",
    "    data = input_data.copy() \n",
    "    \n",
    "    data['year'] = data['title'].str[-5:-1]\n",
    "    data['year'] = pd.to_numeric(data['year'], downcast='integer', errors='coerce')\n",
    "    data = data.dropna(axis=0)    \n",
    "    \n",
    "    data['genres'] = data['genres'].str.split('|')\n",
    "    \n",
    "    data = data[data['year']>=year]\n",
    "    if genres==None:\n",
    "        return data.reset_index(drop=True)\n",
    "    mask = []\n",
    "    for genre_ in data['genres']:\n",
    "        mask.append(True if np.intersect1d(genre_, genres).size > 0 else False) \n",
    "            \n",
    "    data = data[mask]\n",
    "    \n",
    "    return data.reset_index(drop=True)"
   ]
  },
  {
   "cell_type": "code",
   "execution_count": 109,
   "metadata": {},
   "outputs": [],
   "source": [
    "movie_data = movie_filter(raw_movie_data)"
   ]
  },
  {
   "cell_type": "code",
   "execution_count": 110,
   "metadata": {},
   "outputs": [
    {
     "data": {
      "text/html": [
       "<div>\n",
       "<style scoped>\n",
       "    .dataframe tbody tr th:only-of-type {\n",
       "        vertical-align: middle;\n",
       "    }\n",
       "\n",
       "    .dataframe tbody tr th {\n",
       "        vertical-align: top;\n",
       "    }\n",
       "\n",
       "    .dataframe thead th {\n",
       "        text-align: right;\n",
       "    }\n",
       "</style>\n",
       "<table border=\"1\" class=\"dataframe\">\n",
       "  <thead>\n",
       "    <tr style=\"text-align: right;\">\n",
       "      <th></th>\n",
       "      <th>movieId</th>\n",
       "      <th>title</th>\n",
       "      <th>genres</th>\n",
       "      <th>year</th>\n",
       "    </tr>\n",
       "  </thead>\n",
       "  <tbody>\n",
       "    <tr>\n",
       "      <th>0</th>\n",
       "      <td>1</td>\n",
       "      <td>Toy Story (1995)</td>\n",
       "      <td>[Adventure, Animation, Children, Comedy, Fantasy]</td>\n",
       "      <td>1995.0</td>\n",
       "    </tr>\n",
       "    <tr>\n",
       "      <th>1</th>\n",
       "      <td>2</td>\n",
       "      <td>Jumanji (1995)</td>\n",
       "      <td>[Adventure, Children, Fantasy]</td>\n",
       "      <td>1995.0</td>\n",
       "    </tr>\n",
       "    <tr>\n",
       "      <th>2</th>\n",
       "      <td>3</td>\n",
       "      <td>Grumpier Old Men (1995)</td>\n",
       "      <td>[Comedy, Romance]</td>\n",
       "      <td>1995.0</td>\n",
       "    </tr>\n",
       "    <tr>\n",
       "      <th>3</th>\n",
       "      <td>4</td>\n",
       "      <td>Waiting to Exhale (1995)</td>\n",
       "      <td>[Comedy, Drama, Romance]</td>\n",
       "      <td>1995.0</td>\n",
       "    </tr>\n",
       "    <tr>\n",
       "      <th>4</th>\n",
       "      <td>5</td>\n",
       "      <td>Father of the Bride Part II (1995)</td>\n",
       "      <td>[Comedy]</td>\n",
       "      <td>1995.0</td>\n",
       "    </tr>\n",
       "  </tbody>\n",
       "</table>\n",
       "</div>"
      ],
      "text/plain": [
       "   movieId                               title  \\\n",
       "0        1                    Toy Story (1995)   \n",
       "1        2                      Jumanji (1995)   \n",
       "2        3             Grumpier Old Men (1995)   \n",
       "3        4            Waiting to Exhale (1995)   \n",
       "4        5  Father of the Bride Part II (1995)   \n",
       "\n",
       "                                              genres    year  \n",
       "0  [Adventure, Animation, Children, Comedy, Fantasy]  1995.0  \n",
       "1                     [Adventure, Children, Fantasy]  1995.0  \n",
       "2                                  [Comedy, Romance]  1995.0  \n",
       "3                           [Comedy, Drama, Romance]  1995.0  \n",
       "4                                           [Comedy]  1995.0  "
      ]
     },
     "execution_count": 110,
     "metadata": {},
     "output_type": "execute_result"
    }
   ],
   "source": [
    "movie_data.head()"
   ]
  },
  {
   "cell_type": "code",
   "execution_count": 111,
   "metadata": {},
   "outputs": [],
   "source": [
    "def rating_filter(input_data, movie_data, threshold = 100):\n",
    "    data = input_data.copy()\n",
    "    \n",
    "     #movie_data에 없는 평가를 한 경우 뺌\n",
    "    movie_set = set(movie_data['movieId'].values)\n",
    "    data = data[data['movieId'].isin(movie_set)]\n",
    "\n",
    "    #threshold개 이상 평가를 남긴 row만 남김\n",
    "    x = data['userId'].value_counts()>=threshold\n",
    "    y = set(x[x].index)\n",
    "    data = data[data['userId'].isin(y)]\n",
    "    \n",
    "    return data.reset_index(drop=True)"
   ]
  },
  {
   "cell_type": "code",
   "execution_count": 112,
   "metadata": {},
   "outputs": [],
   "source": [
    "rating_data = rating_filter(rating_data,movie_data).drop('timestamp',axis=1)"
   ]
  },
  {
   "cell_type": "code",
   "execution_count": 113,
   "metadata": {},
   "outputs": [],
   "source": [
    "R_df = rating_data.pivot(index = 'userId', columns ='movieId', values = 'rating').fillna(0)"
   ]
  },
  {
   "cell_type": "code",
   "execution_count": 114,
   "metadata": {},
   "outputs": [],
   "source": [
    "def input_user_movie(input_pivot_table):\n",
    "    copy_pivot = input_pivot_table.copy()\n",
    "    movie = []\n",
    "    rating = []\n",
    "    userID = int(input('사용자의 아이디를 입력하세요 : '))\n",
    "    size = int(input('평점을 작성할 영화의 개수를 입력하세요 : '))\n",
    "    for i in range(size) :\n",
    "        m = int(input ('영화의 ID를 입력하세요. : '))\n",
    "        movie.append(m)\n",
    "        r = float(input ('영화의 평점을 입력하세요 : '))\n",
    "        rating.append(r)\n",
    "    \n",
    "    new_data = pd.DataFrame({'userId':userID,'movieId':m,'rating':rating})\n",
    "    \n",
    "    #입력받은 데이터를 하나의 행으로 만들어준다.\n",
    "    a = pd.DataFrame(data = [rating], columns =movie , index =[userID])\n",
    "    \n",
    "    copy_pivot = copy_pivot.append(a).fillna(0)\n",
    "    \n",
    "    \n",
    "    return copy_pivot , userID, new_data"
   ]
  },
  {
   "cell_type": "code",
   "execution_count": 115,
   "metadata": {},
   "outputs": [
    {
     "name": "stdout",
     "output_type": "stream",
     "text": [
      "사용자의 아이디를 입력하세요 : 138479\n",
      "평점을 작성할 영화의 개수를 입력하세요 : 10\n",
      "영화의 ID를 입력하세요. : 1\n",
      "영화의 평점을 입력하세요 : 3.5\n",
      "영화의 ID를 입력하세요. : 2\n",
      "영화의 평점을 입력하세요 : 5\n",
      "영화의 ID를 입력하세요. : 3\n",
      "영화의 평점을 입력하세요 : 4.5\n",
      "영화의 ID를 입력하세요. : 4\n",
      "영화의 평점을 입력하세요 : 4\n",
      "영화의 ID를 입력하세요. : 5\n",
      "영화의 평점을 입력하세요 : 5\n",
      "영화의 ID를 입력하세요. : 6\n",
      "영화의 평점을 입력하세요 : 4\n",
      "영화의 ID를 입력하세요. : 7\n",
      "영화의 평점을 입력하세요 : 3\n",
      "영화의 ID를 입력하세요. : 8\n",
      "영화의 평점을 입력하세요 : 2\n",
      "영화의 ID를 입력하세요. : 9\n",
      "영화의 평점을 입력하세요 : 1\n",
      "영화의 ID를 입력하세요. : 10\n",
      "영화의 평점을 입력하세요 : 5\n"
     ]
    }
   ],
   "source": [
    "R_df , userID, new_data = input_user_movie(R_df)"
   ]
  },
  {
   "cell_type": "code",
   "execution_count": 116,
   "metadata": {},
   "outputs": [],
   "source": [
    "from scipy.sparse.linalg import svds\n",
    "def make_prediction_df():\n",
    "    \n",
    "    #R은 pivot_table을 numpy matrix로 만든 것\n",
    "    R = R_df.values\n",
    "    \n",
    "    #user_rating_mean은 사용자의 평균 평점\n",
    "    user_ratings_mean = np.mean(R, axis = 1)\n",
    "    \n",
    "    #R_demeaned : 사용자-영화 테이블에 대해 사용자 평균 평점을 뺀 것\n",
    "    R_demeaned = R - user_ratings_mean.reshape(-1, 1)\n",
    "        \n",
    "    #U 행렬, sigma 행렬, V전치행렬을 반환.\n",
    "    #이때 spicy에 있는 svd를 이용한다.\n",
    "    U, sigma, Vt = svds(R_demeaned, k = 50)\n",
    "    \n",
    "    #sigma는 0이 포함되지 않은 값으로만 구성되어 있다.\n",
    "    #sigma를 0이 포함된 대칭 행렬로 변환한다.\n",
    "    sigma = np.diag(sigma)\n",
    "    \n",
    "    #SVD가 적용되어 분해된 R_demeaned를 원본 행렬로 복구\n",
    "    #구한 원본 행렬에 사용자 평균 rating을 더해준다.\n",
    "    all_user_predicted_ratings = np.dot(np.dot(U, sigma), Vt) + user_ratings_mean.reshape(-1,1)\n",
    "    \n",
    "    preds_df = pd.DataFrame(all_user_predicted_ratings, columns = R_df.columns)\n",
    "    \n",
    "    return preds_df"
   ]
  },
  {
   "cell_type": "code",
   "execution_count": 127,
   "metadata": {},
   "outputs": [],
   "source": [
    "import numpy as np\n",
    "def recommend_movies(predictions_df, userID, movies_df, new_data, num_recommendations=5):\n",
    "    \n",
    "    #인덱스로 변환해주어야 해서 -1 \n",
    "    user_row_number = list(R_df.index).index(userID)\n",
    "    \n",
    "    #앞에서 만든 prediction행렬을 사용자 인덱스에 따라 영화 정렬 -> 영화 평점이 높은 순으로 정렬\n",
    "    sorted_user_predictions = predictions_df.iloc[user_row_number].sort_values(ascending=False)\n",
    "    \n",
    "    #원본 rating_data에서 user_id에 해당하는 데이터를 뽑아낸다.\n",
    "    user_data = new_data\n",
    "    \n",
    "    #user_data와 원본 영화 데이터를 합친다.\n",
    "    user_full = (user_data.merge(movies_df, how = 'left', on='movieId').sort_values(['rating'], ascending=False))\n",
    "    \n",
    "    #원본 영화 데이터에서 사용자가 본 영화를 제외한 데이터 추출\n",
    "    #.merge로 sorted_user_predcitions와 user_full데이터를 합친다.\n",
    "    #.rename으로 컬럼 이름을 바꾸고 정렬한다\n",
    "    recommendations = (movies_df[~movies_df['movieId'].isin(user_full['movieId'])].\n",
    "         merge(pd.DataFrame(sorted_user_predictions).reset_index(), how = 'left',left_on='movieId',right_on='index').\n",
    "         rename(columns = {user_row_number: 'Predictions'}).\n",
    "         sort_values('Predictions', ascending = False))\n",
    "                       \n",
    "    return recommendations['title'][:num_recommendations]"
   ]
  },
  {
   "cell_type": "code",
   "execution_count": 121,
   "metadata": {},
   "outputs": [],
   "source": [
    "preds_df = make_prediction_df()"
   ]
  },
  {
   "cell_type": "code",
   "execution_count": 128,
   "metadata": {},
   "outputs": [],
   "source": [
    "prediction= recommend_movies(preds_df,userID, movie_data, new_data, 10)"
   ]
  },
  {
   "cell_type": "code",
   "execution_count": 129,
   "metadata": {},
   "outputs": [
    {
     "data": {
      "text/plain": [
       "321                Lion King, The (1994)\n",
       "505                       Aladdin (1992)\n",
       "137    Die Hard: With a Vengeance (1995)\n",
       "417                 Jurassic Park (1993)\n",
       "333                         Speed (1994)\n",
       "122                     Apollo 13 (1995)\n",
       "397                 Fugitive, The (1993)\n",
       "324                     Mask, The (1994)\n",
       "0                       Toy Story (1995)\n",
       "96                     Braveheart (1995)\n",
       "Name: title, dtype: object"
      ]
     },
     "execution_count": 129,
     "metadata": {},
     "output_type": "execute_result"
    }
   ],
   "source": [
    "prediction"
   ]
  }
 ],
 "metadata": {
  "kernelspec": {
   "display_name": "Python 3",
   "language": "python",
   "name": "python3"
  },
  "language_info": {
   "codemirror_mode": {
    "name": "ipython",
    "version": 3
   },
   "file_extension": ".py",
   "mimetype": "text/x-python",
   "name": "python",
   "nbconvert_exporter": "python",
   "pygments_lexer": "ipython3",
   "version": "3.7.6"
  },
  "toc": {
   "base_numbering": 1,
   "nav_menu": {},
   "number_sections": true,
   "sideBar": true,
   "skip_h1_title": false,
   "title_cell": "Table of Contents",
   "title_sidebar": "Contents",
   "toc_cell": false,
   "toc_position": {},
   "toc_section_display": true,
   "toc_window_display": false
  }
 },
 "nbformat": 4,
 "nbformat_minor": 4
}
